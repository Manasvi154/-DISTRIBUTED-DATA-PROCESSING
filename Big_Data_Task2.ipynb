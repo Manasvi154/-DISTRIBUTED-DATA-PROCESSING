{
  "nbformat": 4,
  "nbformat_minor": 0,
  "metadata": {
    "colab": {
      "provenance": []
    },
    "kernelspec": {
      "name": "python3",
      "display_name": "Python 3"
    },
    "language_info": {
      "name": "python"
    }
  },
  "cells": [
    {
      "cell_type": "code",
      "execution_count": 6,
      "metadata": {
        "colab": {
          "base_uri": "https://localhost:8080/"
        },
        "id": "5wI6yW7oq17y",
        "outputId": "a3a6bd7e-4bdc-4f62-ac5e-8062467194c2"
      },
      "outputs": [
        {
          "output_type": "stream",
          "name": "stdout",
          "text": [
            "Female Passengers:\n",
            "+------+----+-----+-----+-------+--------+------+-----+-----+--------+\n",
            "|   sex| age|sibsp|parch|   fare|embarked| class|  who|alone|survived|\n",
            "+------+----+-----+-----+-------+--------+------+-----+-----+--------+\n",
            "|female|38.0|    1|    0|71.2833|       C| First|woman|false|       1|\n",
            "|female|26.0|    0|    0|  7.925|       S| Third|woman| true|       1|\n",
            "|female|35.0|    1|    0|   53.1|       S| First|woman|false|       1|\n",
            "|female|27.0|    0|    2|11.1333|       S| Third|woman|false|       1|\n",
            "|female|14.0|    1|    0|30.0708|       C|Second|child|false|       1|\n",
            "+------+----+-----+-----+-------+--------+------+-----+-----+--------+\n",
            "only showing top 5 rows\n",
            "\n",
            "\n",
            "Grouped and Aggregated Results (Class & Gender):\n",
            "+------+------+------------------+------------------+------------------+----------------+\n",
            "| class|   sex|       Average_Age|      Average_Fare|     Survival_Rate|Total_Passengers|\n",
            "+------+------+------------------+------------------+------------------+----------------+\n",
            "| Third|female|             21.75|16.118809722222224|               0.5|             144|\n",
            "| First|female| 34.61176470588235|106.12579787234041|0.9680851063829787|              94|\n",
            "|Second|female|28.722972972972972| 21.97012105263158|0.9210526315789473|              76|\n",
            "+------+------+------------------+------------------+------------------+----------------+\n",
            "\n",
            "\n",
            "Survival by Gender:\n",
            "+------+--------+-----+\n",
            "|   Sex|Survived|Count|\n",
            "+------+--------+-----+\n",
            "|  male|       0|  468|\n",
            "|female|       1|  233|\n",
            "|female|       0|   81|\n",
            "|  male|       1|  109|\n",
            "+------+--------+-----+\n",
            "\n"
          ]
        }
      ],
      "source": [
        "from pyspark.sql import SparkSession\n",
        "from pyspark.sql.functions import col, avg, count\n",
        "\n",
        "# Step 1: Spark session\n",
        "spark = SparkSession.builder \\\n",
        "    .appName(\"Task 2 - Titanic Data Analysis\") \\\n",
        "    .getOrCreate()\n",
        "\n",
        "# Step 2: Load Titanic dataset\n",
        "df = spark.read.option(\"header\", True).option(\"inferSchema\", True).csv(\"Titanic.csv\")\n",
        "\n",
        "# Step 3: Filtering - Female passengers\n",
        "female_passengers = df.filter(col(\"Sex\") == \"female\")\n",
        "print(\"Female Passengers:\")\n",
        "female_passengers.show(5)\n",
        "\n",
        "# Step 4: Aggregation by Passenger Class\n",
        "grouped_df = female_passengers.groupBy(\"class\", \"sex\").agg(\n",
        "    avg(\"age\").alias(\"Average_Age\"),\n",
        "    avg(\"fare\").alias(\"Average_Fare\"),\n",
        "    avg(\"survived\").alias(\"Survival_Rate\"),\n",
        "    count(\"*\").alias(\"Total_Passengers\")\n",
        ")\n",
        "\n",
        "print(\"\\nGrouped and Aggregated Results (Class & Gender):\")\n",
        "grouped_df.show()\n",
        "\n",
        "# Step 5: Survival count by gender\n",
        "survival_by_gender = df.groupBy(\"Sex\", \"Survived\").agg(count(\"*\").alias(\"Count\"))\n",
        "print(\"\\nSurvival by Gender:\")\n",
        "survival_by_gender.show()\n",
        "\n",
        "spark.stop()\n"
      ]
    }
  ]
}